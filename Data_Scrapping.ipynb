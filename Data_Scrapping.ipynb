{
 "cells": [
  {
   "cell_type": "markdown",
   "id": "4e393f92",
   "metadata": {},
   "source": [
    "# Import Library"
   ]
  },
  {
   "cell_type": "code",
   "execution_count": 1,
   "id": "2170d275",
   "metadata": {},
   "outputs": [],
   "source": [
    "from google_play_scraper import reviews, Sort\n",
    "import pandas as pd\n",
    "import time"
   ]
  },
  {
   "cell_type": "markdown",
   "id": "ab052495",
   "metadata": {},
   "source": [
    "# Scapping Data"
   ]
  },
  {
   "cell_type": "code",
   "execution_count": 2,
   "id": "7600c180",
   "metadata": {},
   "outputs": [],
   "source": [
    "def scrape_reviews(app_id, total_reviews=10000):\n",
    "    count = 0\n",
    "    result_list = []\n",
    "    next_token = None\n",
    "\n",
    "    while count < total_reviews:\n",
    "        n_to_fetch = min(200, total_reviews - count)\n",
    "        reviews_batch, next_token = reviews(\n",
    "            app_id,\n",
    "            lang='id',\n",
    "            country='id',\n",
    "            sort=Sort.NEWEST,\n",
    "            count=n_to_fetch,\n",
    "            continuation_token=next_token\n",
    "        )\n",
    "        result_list.extend(reviews_batch)\n",
    "        count += len(reviews_batch)\n",
    "        print(f'Scraped: {count} reviews')\n",
    "        time.sleep(1)\n",
    "\n",
    "        if next_token is None:\n",
    "            break\n",
    "\n",
    "    return result_list"
   ]
  },
  {
   "cell_type": "code",
   "execution_count": 3,
   "id": "c08514b9",
   "metadata": {},
   "outputs": [
    {
     "name": "stdout",
     "output_type": "stream",
     "text": [
      "Scraped: 200 reviews\n",
      "Scraped: 400 reviews\n",
      "Scraped: 600 reviews\n",
      "Scraped: 800 reviews\n",
      "Scraped: 1000 reviews\n",
      "Scraped: 1200 reviews\n",
      "Scraped: 1400 reviews\n",
      "Scraped: 1600 reviews\n",
      "Scraped: 1800 reviews\n",
      "Scraped: 2000 reviews\n",
      "Scraped: 2200 reviews\n",
      "Scraped: 2400 reviews\n",
      "Scraped: 2600 reviews\n",
      "Scraped: 2800 reviews\n",
      "Scraped: 3000 reviews\n",
      "Scraped: 3200 reviews\n",
      "Scraped: 3400 reviews\n",
      "Scraped: 3600 reviews\n",
      "Scraped: 3800 reviews\n",
      "Scraped: 4000 reviews\n",
      "Scraped: 4200 reviews\n",
      "Scraped: 4400 reviews\n",
      "Scraped: 4600 reviews\n",
      "Scraped: 4800 reviews\n",
      "Scraped: 5000 reviews\n",
      "Scraped: 5200 reviews\n",
      "Scraped: 5400 reviews\n",
      "Scraped: 5600 reviews\n",
      "Scraped: 5800 reviews\n",
      "Scraped: 6000 reviews\n",
      "Scraped: 6200 reviews\n",
      "Scraped: 6400 reviews\n",
      "Scraped: 6600 reviews\n",
      "Scraped: 6800 reviews\n",
      "Scraped: 7000 reviews\n",
      "Scraped: 7200 reviews\n",
      "Scraped: 7400 reviews\n",
      "Scraped: 7600 reviews\n",
      "Scraped: 7800 reviews\n",
      "Scraped: 8000 reviews\n",
      "Scraped: 8200 reviews\n",
      "Scraped: 8400 reviews\n",
      "Scraped: 8600 reviews\n",
      "Scraped: 8800 reviews\n",
      "Scraped: 9000 reviews\n",
      "Scraped: 9200 reviews\n",
      "Scraped: 9400 reviews\n",
      "Scraped: 9600 reviews\n",
      "Scraped: 9800 reviews\n",
      "Scraped: 10000 reviews\n",
      "Scraped: 10200 reviews\n",
      "Scraped: 10400 reviews\n",
      "Scraped: 10600 reviews\n",
      "Scraped: 10800 reviews\n",
      "Scraped: 11000 reviews\n",
      "Scraped: 11200 reviews\n",
      "Scraped: 11400 reviews\n",
      "Scraped: 11600 reviews\n",
      "Scraped: 11800 reviews\n",
      "Scraped: 12000 reviews\n",
      "Scraped: 12200 reviews\n",
      "Scraped: 12400 reviews\n",
      "Scraped: 12600 reviews\n",
      "Scraped: 12800 reviews\n",
      "Scraped: 13000 reviews\n",
      "Scraped: 13200 reviews\n",
      "Scraped: 13400 reviews\n",
      "Scraped: 13600 reviews\n",
      "Scraped: 13800 reviews\n",
      "Scraped: 14000 reviews\n",
      "Scraped: 14200 reviews\n",
      "Scraped: 14400 reviews\n",
      "Scraped: 14600 reviews\n",
      "Scraped: 14800 reviews\n",
      "Scraped: 15000 reviews\n",
      "Scraped: 15200 reviews\n",
      "Scraped: 15400 reviews\n",
      "Scraped: 15600 reviews\n",
      "Scraped: 15800 reviews\n",
      "Scraped: 16000 reviews\n",
      "Scraped: 16200 reviews\n",
      "Scraped: 16400 reviews\n",
      "Scraped: 16600 reviews\n",
      "Scraped: 16800 reviews\n",
      "Scraped: 17000 reviews\n",
      "Scraped: 17200 reviews\n",
      "Scraped: 17400 reviews\n",
      "Scraped: 17600 reviews\n",
      "Scraped: 17800 reviews\n",
      "Scraped: 18000 reviews\n",
      "Scraped: 18200 reviews\n",
      "Scraped: 18400 reviews\n",
      "Scraped: 18600 reviews\n",
      "Scraped: 18800 reviews\n",
      "Scraped: 19000 reviews\n",
      "Scraped: 19200 reviews\n",
      "Scraped: 19400 reviews\n",
      "Scraped: 19600 reviews\n",
      "Scraped: 19800 reviews\n",
      "Scraped: 20000 reviews\n"
     ]
    }
   ],
   "source": [
    "# ID Aplikasi Gojek\n",
    "app_id_gojek = 'com.gojek.app'\n",
    "\n",
    "# Jalankan scraping\n",
    "gojek_reviews = scrape_reviews(app_id_gojek, total_reviews=20000)"
   ]
  },
  {
   "cell_type": "markdown",
   "id": "b9d73ee8",
   "metadata": {},
   "source": [
    "**Insight**\n",
    "- Pada studi kasus kali ini saya akan scapping data review dari aplikasi gojek sebanyak 20000 data"
   ]
  },
  {
   "cell_type": "markdown",
   "id": "728525de",
   "metadata": {},
   "source": [
    "# Export Dataset"
   ]
  },
  {
   "cell_type": "code",
   "execution_count": 4,
   "id": "aeded571",
   "metadata": {},
   "outputs": [],
   "source": [
    "df_gojek = pd.DataFrame(gojek_reviews)[['content', 'score']]\n",
    "df_gojek.to_csv('gojek_reviews.csv', index=False)"
   ]
  },
  {
   "cell_type": "markdown",
   "id": "262d0d63",
   "metadata": {},
   "source": [
    "**Insight**\n",
    "- data sudah di export dengan nama gojek_reviews.csv"
   ]
  }
 ],
 "metadata": {
  "kernelspec": {
   "display_name": "base",
   "language": "python",
   "name": "python3"
  },
  "language_info": {
   "codemirror_mode": {
    "name": "ipython",
    "version": 3
   },
   "file_extension": ".py",
   "mimetype": "text/x-python",
   "name": "python",
   "nbconvert_exporter": "python",
   "pygments_lexer": "ipython3",
   "version": "3.12.7"
  }
 },
 "nbformat": 4,
 "nbformat_minor": 5
}
